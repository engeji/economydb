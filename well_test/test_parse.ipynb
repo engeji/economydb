{
 "cells": [
  {
   "cell_type": "code",
   "execution_count": 8,
   "metadata": {},
   "outputs": [],
   "source": [
    "# from pypxlib import Table\n",
    "path_db = r'D:\\vgm\\Ямбург 2022\\Инклинометрия\\Rabota 2021.db'\n",
    "# table = Table(r'D:\\vgm\\Ямбург 2022\\Инклинометрия\\Rabota 2021.db',)\n",
    "# try:\n",
    "#     for row in table:\n",
    "#         print(row)\n",
    "# finally:\n",
    "#     table.close()"
   ]
  },
  {
   "cell_type": "code",
   "execution_count": 17,
   "metadata": {},
   "outputs": [
    {
     "ename": "TypeError",
     "evalue": "item 3 in _argtypes_ passes a union by value, which is unsupported.",
     "output_type": "error",
     "traceback": [
      "\u001b[1;31m---------------------------------------------------------------------------\u001b[0m",
      "\u001b[1;31mKeyError\u001b[0m                                  Traceback (most recent call last)",
      "File \u001b[1;32mC:\\Program Files\\Python38\\lib\\ctypes\\__init__.py:99\u001b[0m, in \u001b[0;36mCFUNCTYPE\u001b[1;34m(restype, *argtypes, **kw)\u001b[0m\n\u001b[0;32m     98\u001b[0m \u001b[39mtry\u001b[39;00m:\n\u001b[1;32m---> 99\u001b[0m     \u001b[39mreturn\u001b[39;00m _c_functype_cache[(restype, argtypes, flags)]\n\u001b[0;32m    100\u001b[0m \u001b[39mexcept\u001b[39;00m \u001b[39mKeyError\u001b[39;00m:\n",
      "\u001b[1;31mKeyError\u001b[0m: (<class 'ctypes.c_void_p'>, (<class 'pypxlib.pxlib_ctypes.py3.LP_struct_px_doc'>, <class 'ctypes.c_long'>, <class 'pypxlib.pxlib_ctypes.py3.String'>, <class 'ctypes.c_void_p'>), 1)",
      "\nDuring handling of the above exception, another exception occurred:\n",
      "\u001b[1;31mTypeError\u001b[0m                                 Traceback (most recent call last)",
      "Cell \u001b[1;32mIn[17], line 1\u001b[0m\n\u001b[1;32m----> 1\u001b[0m \u001b[39mfrom\u001b[39;00m \u001b[39mpypxlib\u001b[39;00m\u001b[39m.\u001b[39;00m\u001b[39mpxlib_ctypes\u001b[39;00m \u001b[39mimport\u001b[39;00m \u001b[39m*\u001b[39m\n\u001b[0;32m      3\u001b[0m \u001b[39m# pxdoc = PX_new()\u001b[39;00m\n\u001b[0;32m      4\u001b[0m \u001b[39m# PX_open_file(pxdoc, b\"test.db\")\u001b[39;00m\n\u001b[0;32m      5\u001b[0m \n\u001b[1;32m   (...)\u001b[0m\n\u001b[0;32m     15\u001b[0m \u001b[39m# # Free the memory associated with pxdoc:\u001b[39;00m\n\u001b[0;32m     16\u001b[0m \u001b[39m# PX_delete(pxdoc)\u001b[39;00m\n",
      "File \u001b[1;32md:\\macro\\economydb\\.venv\\lib\\site-packages\\pypxlib\\__init__.py:4\u001b[0m\n\u001b[0;32m      2\u001b[0m \u001b[39mfrom\u001b[39;00m \u001b[39mdatetime\u001b[39;00m \u001b[39mimport\u001b[39;00m date, time, datetime\n\u001b[0;32m      3\u001b[0m \u001b[39mfrom\u001b[39;00m \u001b[39mos\u001b[39;00m\u001b[39m.\u001b[39;00m\u001b[39mpath\u001b[39;00m \u001b[39mimport\u001b[39;00m isfile\n\u001b[1;32m----> 4\u001b[0m \u001b[39mfrom\u001b[39;00m \u001b[39mpypxlib\u001b[39;00m\u001b[39m.\u001b[39;00m\u001b[39mpxlib_ctypes\u001b[39;00m \u001b[39mimport\u001b[39;00m \u001b[39m*\u001b[39m\n\u001b[0;32m      6\u001b[0m \u001b[39mimport\u001b[39;00m \u001b[39matexit\u001b[39;00m\n\u001b[0;32m      8\u001b[0m PX_boot()\n",
      "File \u001b[1;32md:\\macro\\economydb\\.venv\\lib\\site-packages\\pypxlib\\pxlib_ctypes\\__init__.py:15\u001b[0m\n\u001b[0;32m     13\u001b[0m \t\u001b[39mfrom\u001b[39;00m \u001b[39mpypxlib\u001b[39;00m\u001b[39m.\u001b[39;00m\u001b[39mpxlib_ctypes\u001b[39;00m\u001b[39m.\u001b[39;00m\u001b[39mpy2\u001b[39;00m \u001b[39mimport\u001b[39;00m \u001b[39m*\u001b[39m\n\u001b[0;32m     14\u001b[0m \u001b[39melse\u001b[39;00m:\n\u001b[1;32m---> 15\u001b[0m \t\u001b[39mfrom\u001b[39;00m \u001b[39mpypxlib\u001b[39;00m\u001b[39m.\u001b[39;00m\u001b[39mpxlib_ctypes\u001b[39;00m\u001b[39m.\u001b[39;00m\u001b[39mpy3\u001b[39;00m \u001b[39mimport\u001b[39;00m \u001b[39m*\u001b[39m\n",
      "File \u001b[1;32md:\\macro\\economydb\\.venv\\lib\\site-packages\\pypxlib\\pxlib_ctypes\\py3.py:951\u001b[0m\n\u001b[0;32m    894\u001b[0m struct_px_stream\u001b[39m.\u001b[39m_fields_ \u001b[39m=\u001b[39m [\n\u001b[0;32m    895\u001b[0m     (\u001b[39m'\u001b[39m\u001b[39mtype\u001b[39m\u001b[39m'\u001b[39m, c_int),\n\u001b[0;32m    896\u001b[0m     (\u001b[39m'\u001b[39m\u001b[39mmode\u001b[39m\u001b[39m'\u001b[39m, c_int),\n\u001b[1;32m   (...)\u001b[0m\n\u001b[0;32m    902\u001b[0m     (\u001b[39m'\u001b[39m\u001b[39mwrite\u001b[39m\u001b[39m'\u001b[39m, CFUNCTYPE(UNCHECKED(c_size_t), POINTER(pxdoc_t), POINTER(pxstream_t), c_size_t, POINTER(\u001b[39mNone\u001b[39;00m))),\n\u001b[0;32m    903\u001b[0m ]\n\u001b[0;32m    905\u001b[0m struct_px_doc\u001b[39m.\u001b[39m\u001b[39m__slots__\u001b[39m \u001b[39m=\u001b[39m [\n\u001b[0;32m    906\u001b[0m     \u001b[39m'\u001b[39m\u001b[39mpx_stream\u001b[39m\u001b[39m'\u001b[39m,\n\u001b[0;32m    907\u001b[0m     \u001b[39m'\u001b[39m\u001b[39mpx_name\u001b[39m\u001b[39m'\u001b[39m,\n\u001b[1;32m   (...)\u001b[0m\n\u001b[0;32m    935\u001b[0m     \u001b[39m'\u001b[39m\u001b[39mcurblock\u001b[39m\u001b[39m'\u001b[39m,\n\u001b[0;32m    936\u001b[0m ]\n\u001b[0;32m    937\u001b[0m struct_px_doc\u001b[39m.\u001b[39m_fields_ \u001b[39m=\u001b[39m [\n\u001b[0;32m    938\u001b[0m     (\u001b[39m'\u001b[39m\u001b[39mpx_stream\u001b[39m\u001b[39m'\u001b[39m, POINTER(pxstream_t)),\n\u001b[0;32m    939\u001b[0m     (\u001b[39m'\u001b[39m\u001b[39mpx_name\u001b[39m\u001b[39m'\u001b[39m, String),\n\u001b[0;32m    940\u001b[0m     (\u001b[39m'\u001b[39m\u001b[39mpx_close_fp\u001b[39m\u001b[39m'\u001b[39m, c_int),\n\u001b[0;32m    941\u001b[0m     (\u001b[39m'\u001b[39m\u001b[39mpx_head\u001b[39m\u001b[39m'\u001b[39m, POINTER(pxhead_t)),\n\u001b[0;32m    942\u001b[0m     (\u001b[39m'\u001b[39m\u001b[39mpx_data\u001b[39m\u001b[39m'\u001b[39m, POINTER(\u001b[39mNone\u001b[39;00m)),\n\u001b[0;32m    943\u001b[0m     (\u001b[39m'\u001b[39m\u001b[39mpx_datalen\u001b[39m\u001b[39m'\u001b[39m, c_int),\n\u001b[0;32m    944\u001b[0m     (\u001b[39m'\u001b[39m\u001b[39mpx_indexdata\u001b[39m\u001b[39m'\u001b[39m, POINTER(\u001b[39mNone\u001b[39;00m)),\n\u001b[0;32m    945\u001b[0m     (\u001b[39m'\u001b[39m\u001b[39mpx_indexdatalen\u001b[39m\u001b[39m'\u001b[39m, c_int),\n\u001b[0;32m    946\u001b[0m     (\u001b[39m'\u001b[39m\u001b[39mpx_pindex\u001b[39m\u001b[39m'\u001b[39m, POINTER(pxdoc_t)),\n\u001b[0;32m    947\u001b[0m     (\u001b[39m'\u001b[39m\u001b[39mpx_blob\u001b[39m\u001b[39m'\u001b[39m, POINTER(pxblob_t)),\n\u001b[0;32m    948\u001b[0m     (\u001b[39m'\u001b[39m\u001b[39mlast_position\u001b[39m\u001b[39m'\u001b[39m, c_int),\n\u001b[0;32m    949\u001b[0m     (\u001b[39m'\u001b[39m\u001b[39mwarnings\u001b[39m\u001b[39m'\u001b[39m, c_int),\n\u001b[0;32m    950\u001b[0m     (\u001b[39m'\u001b[39m\u001b[39mwriteproc\u001b[39m\u001b[39m'\u001b[39m, CFUNCTYPE(UNCHECKED(c_size_t), POINTER(pxdoc_t), POINTER(\u001b[39mNone\u001b[39;00m), c_size_t)),\n\u001b[1;32m--> 951\u001b[0m     (\u001b[39m'\u001b[39m\u001b[39merrorhandler\u001b[39m\u001b[39m'\u001b[39m, CFUNCTYPE(UNCHECKED(\u001b[39mNone\u001b[39;49;00m), POINTER(pxdoc_t), c_int, String, POINTER(\u001b[39mNone\u001b[39;49;00m))),\n\u001b[0;32m    952\u001b[0m     (\u001b[39m'\u001b[39m\u001b[39merrorhandler_user_data\u001b[39m\u001b[39m'\u001b[39m, POINTER(\u001b[39mNone\u001b[39;00m)),\n\u001b[0;32m    953\u001b[0m     (\u001b[39m'\u001b[39m\u001b[39mmalloc\u001b[39m\u001b[39m'\u001b[39m, CFUNCTYPE(UNCHECKED(POINTER(\u001b[39mNone\u001b[39;00m)), POINTER(pxdoc_t), c_size_t, String)),\n\u001b[0;32m    954\u001b[0m     (\u001b[39m'\u001b[39m\u001b[39mcalloc\u001b[39m\u001b[39m'\u001b[39m, CFUNCTYPE(UNCHECKED(POINTER(\u001b[39mNone\u001b[39;00m)), POINTER(pxdoc_t), c_size_t, String)),\n\u001b[0;32m    955\u001b[0m     (\u001b[39m'\u001b[39m\u001b[39mrealloc\u001b[39m\u001b[39m'\u001b[39m, CFUNCTYPE(UNCHECKED(POINTER(\u001b[39mNone\u001b[39;00m)), POINTER(pxdoc_t), POINTER(\u001b[39mNone\u001b[39;00m), c_size_t, String)),\n\u001b[0;32m    956\u001b[0m     (\u001b[39m'\u001b[39m\u001b[39mfree\u001b[39m\u001b[39m'\u001b[39m, CFUNCTYPE(UNCHECKED(\u001b[39mNone\u001b[39;00m), POINTER(pxdoc_t), POINTER(\u001b[39mNone\u001b[39;00m))),\n\u001b[0;32m    957\u001b[0m     (\u001b[39m'\u001b[39m\u001b[39mread\u001b[39m\u001b[39m'\u001b[39m, CFUNCTYPE(UNCHECKED(c_size_t), POINTER(pxdoc_t), POINTER(pxstream_t), c_size_t, POINTER(\u001b[39mNone\u001b[39;00m))),\n\u001b[0;32m    958\u001b[0m     (\u001b[39m'\u001b[39m\u001b[39mseek\u001b[39m\u001b[39m'\u001b[39m, CFUNCTYPE(UNCHECKED(c_int), POINTER(pxdoc_t), POINTER(pxstream_t), c_long, c_int)),\n\u001b[0;32m    959\u001b[0m     (\u001b[39m'\u001b[39m\u001b[39mtell\u001b[39m\u001b[39m'\u001b[39m, CFUNCTYPE(UNCHECKED(c_long), POINTER(pxdoc_t), POINTER(pxstream_t))),\n\u001b[0;32m    960\u001b[0m     (\u001b[39m'\u001b[39m\u001b[39mwrite\u001b[39m\u001b[39m'\u001b[39m, CFUNCTYPE(UNCHECKED(c_size_t), POINTER(pxdoc_t), POINTER(pxstream_t), c_size_t, POINTER(\u001b[39mNone\u001b[39;00m))),\n\u001b[0;32m    961\u001b[0m     (\u001b[39m'\u001b[39m\u001b[39mtargetencoding\u001b[39m\u001b[39m'\u001b[39m, String),\n\u001b[0;32m    962\u001b[0m     (\u001b[39m'\u001b[39m\u001b[39minputencoding\u001b[39m\u001b[39m'\u001b[39m, String),\n\u001b[0;32m    963\u001b[0m     (\u001b[39m'\u001b[39m\u001b[39mout_iconvcd\u001b[39m\u001b[39m'\u001b[39m, iconv_t),\n\u001b[0;32m    964\u001b[0m     (\u001b[39m'\u001b[39m\u001b[39min_iconvcd\u001b[39m\u001b[39m'\u001b[39m, iconv_t),\n\u001b[0;32m    965\u001b[0m     (\u001b[39m'\u001b[39m\u001b[39mcurblocknr\u001b[39m\u001b[39m'\u001b[39m, c_long),\n\u001b[0;32m    966\u001b[0m     (\u001b[39m'\u001b[39m\u001b[39mcurblockdirty\u001b[39m\u001b[39m'\u001b[39m, c_int),\n\u001b[0;32m    967\u001b[0m     (\u001b[39m'\u001b[39m\u001b[39mcurblock\u001b[39m\u001b[39m'\u001b[39m, POINTER(c_ubyte)),\n\u001b[0;32m    968\u001b[0m ]\n\u001b[0;32m    970\u001b[0m \u001b[39m# /usr/local/include/paradox.h: 229\u001b[39;00m\n\u001b[0;32m    971\u001b[0m \u001b[39mclass\u001b[39;00m \u001b[39mstruct_px_blockcache\u001b[39;00m(Structure):\n",
      "File \u001b[1;32mC:\\Program Files\\Python38\\lib\\ctypes\\__init__.py:101\u001b[0m, in \u001b[0;36mCFUNCTYPE\u001b[1;34m(restype, *argtypes, **kw)\u001b[0m\n\u001b[0;32m     99\u001b[0m     \u001b[39mreturn\u001b[39;00m _c_functype_cache[(restype, argtypes, flags)]\n\u001b[0;32m    100\u001b[0m \u001b[39mexcept\u001b[39;00m \u001b[39mKeyError\u001b[39;00m:\n\u001b[1;32m--> 101\u001b[0m     \u001b[39mclass\u001b[39;00m \u001b[39mCFunctionType\u001b[39;00m(_CFuncPtr):\n\u001b[0;32m    102\u001b[0m         _argtypes_ \u001b[39m=\u001b[39m argtypes\n\u001b[0;32m    103\u001b[0m         _restype_ \u001b[39m=\u001b[39m restype\n",
      "\u001b[1;31mTypeError\u001b[0m: item 3 in _argtypes_ passes a union by value, which is unsupported."
     ]
    }
   ],
   "source": [
    "from pypxlib.pxlib_ctypes import *\n",
    "\n",
    "# pxdoc = PX_new()\n",
    "# PX_open_file(pxdoc, b\"test.db\")\n",
    "\n",
    "# num_fields = PX_get_num_fields(pxdoc)\n",
    "# print('test.db has %d fields:' % num_fields)\n",
    "\n",
    "# for i in range(num_fields):\n",
    "#     field = PX_get_field(pxdoc, i)\n",
    "#     print(field.contents.px_fname)\n",
    "\n",
    "# # Close the file:\n",
    "# PX_close(pxdoc)\n",
    "# # Free the memory associated with pxdoc:\n",
    "# PX_delete(pxdoc)"
   ]
  }
 ],
 "metadata": {
  "kernelspec": {
   "display_name": "Python 3.8.1 ('.venv': venv)",
   "language": "python",
   "name": "python3"
  },
  "language_info": {
   "codemirror_mode": {
    "name": "ipython",
    "version": 3
   },
   "file_extension": ".py",
   "mimetype": "text/x-python",
   "name": "python",
   "nbconvert_exporter": "python",
   "pygments_lexer": "ipython3",
   "version": "3.8.1"
  },
  "orig_nbformat": 4,
  "vscode": {
   "interpreter": {
    "hash": "e64a2730bf8b27f3c00c0f7279e61ec2dd083359f64f5955e3ff62720fc72001"
   }
  }
 },
 "nbformat": 4,
 "nbformat_minor": 2
}
